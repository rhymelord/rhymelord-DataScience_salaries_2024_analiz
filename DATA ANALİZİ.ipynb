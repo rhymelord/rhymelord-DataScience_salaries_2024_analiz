{
 "cells": [
  {
   "cell_type": "code",
   "execution_count": 1,
   "id": "101aa404",
   "metadata": {},
   "outputs": [],
   "source": [
    "import numpy as np \n",
    "import pandas as pd \n",
    "import os\n",
    "import seaborn as sns\n",
    "import matplotlib.pyplot as plt\n",
    "import plotly.express as px\n",
    "\n",
    "pd.set_option('display.max_columns', None)\n",
    "pd.set_option('display.width', None)\n",
    "pd.set_option('display.float_format', lambda x: '%.3f' % x)"
   ]
  },
  {
   "cell_type": "code",
   "execution_count": 3,
   "id": "fd19759b",
   "metadata": {},
   "outputs": [],
   "source": [
    "df = pd.read_csv(r\"C:\\Users\\aydin\\OneDrive\\Desktop\\veri bilimi\\DataScience_salaries_2024.csv\")"
   ]
  },
  {
   "cell_type": "code",
   "execution_count": 5,
   "id": "40781f5d",
   "metadata": {},
   "outputs": [],
   "source": [
    "def check_df(dataframe):\n",
    "    print(\"##################### Shape #####################\")\n",
    "    print(dataframe.shape)\n",
    "    print(\"\\n##################### Columns #####################\")\n",
    "    print(dataframe.columns)\n",
    "    print(\"\\n##################### Info #####################\")\n",
    "    dataframe.info()\n",
    "    print(\"##################### Types #####################\")\n",
    "    print(dataframe.dtypes)\n",
    "    print(\"##################### Head #####################\")\n",
    "    print(dataframe.head())\n",
    "    print(\"##################### Tail #####################\")\n",
    "    print(dataframe.tail())\n",
    "    print(\"##################### NA #####################\")\n",
    "    print(dataframe.isnull().sum())"
   ]
  },
  {
   "cell_type": "code",
   "execution_count": 8,
   "id": "dbc285fc",
   "metadata": {},
   "outputs": [
    {
     "name": "stdout",
     "output_type": "stream",
     "text": [
      "##################### Shape #####################\n",
      "(14838, 11)\n",
      "\n",
      "##################### Columns #####################\n",
      "Index(['work_year', 'experience_level', 'employment_type', 'job_title',\n",
      "       'salary', 'salary_currency', 'salary_in_usd', 'employee_residence',\n",
      "       'remote_ratio', 'company_location', 'company_size'],\n",
      "      dtype='object')\n",
      "\n",
      "##################### Info #####################\n",
      "<class 'pandas.core.frame.DataFrame'>\n",
      "RangeIndex: 14838 entries, 0 to 14837\n",
      "Data columns (total 11 columns):\n",
      " #   Column              Non-Null Count  Dtype \n",
      "---  ------              --------------  ----- \n",
      " 0   work_year           14838 non-null  int64 \n",
      " 1   experience_level    14838 non-null  object\n",
      " 2   employment_type     14838 non-null  object\n",
      " 3   job_title           14838 non-null  object\n",
      " 4   salary              14838 non-null  int64 \n",
      " 5   salary_currency     14838 non-null  object\n",
      " 6   salary_in_usd       14838 non-null  int64 \n",
      " 7   employee_residence  14838 non-null  object\n",
      " 8   remote_ratio        14838 non-null  int64 \n",
      " 9   company_location    14838 non-null  object\n",
      " 10  company_size        14838 non-null  object\n",
      "dtypes: int64(4), object(7)\n",
      "memory usage: 1.2+ MB\n",
      "##################### Types #####################\n",
      "work_year              int64\n",
      "experience_level      object\n",
      "employment_type       object\n",
      "job_title             object\n",
      "salary                 int64\n",
      "salary_currency       object\n",
      "salary_in_usd          int64\n",
      "employee_residence    object\n",
      "remote_ratio           int64\n",
      "company_location      object\n",
      "company_size          object\n",
      "dtype: object\n",
      "##################### Head #####################\n",
      "   work_year experience_level employment_type                       job_title  \\\n",
      "0       2021               MI              FT                  Data Scientist   \n",
      "1       2021               MI              FT                 BI Data Analyst   \n",
      "2       2020               MI              FT                  Data Scientist   \n",
      "3       2021               MI              FT                     ML Engineer   \n",
      "4       2022               SE              FT  Lead Machine Learning Engineer   \n",
      "\n",
      "     salary salary_currency  salary_in_usd employee_residence  remote_ratio  \\\n",
      "0  30400000             CLP          40038                 CL           100   \n",
      "1  11000000             HUF          36259                 HU            50   \n",
      "2  11000000             HUF          35735                 HU            50   \n",
      "3   8500000             JPY          77364                 JP            50   \n",
      "4   7500000             INR          95386                 IN            50   \n",
      "\n",
      "  company_location company_size  \n",
      "0               CL            L  \n",
      "1               US            L  \n",
      "2               HU            L  \n",
      "3               JP            S  \n",
      "4               IN            L  \n",
      "##################### Tail #####################\n",
      "       work_year experience_level employment_type  \\\n",
      "14833       2022               MI              FT   \n",
      "14834       2020               EX              FT   \n",
      "14835       2021               EN              FT   \n",
      "14836       2022               EN              FT   \n",
      "14837       2020               EN              PT   \n",
      "\n",
      "                             job_title  salary salary_currency  salary_in_usd  \\\n",
      "14833  Business Intelligence Developer   15000             USD          15000   \n",
      "14834               Staff Data Analyst   15000             USD          15000   \n",
      "14835       Machine Learning Developer   15000             USD          15000   \n",
      "14836                     Data Analyst   15000             USD          15000   \n",
      "14837                      ML Engineer   14000             EUR          15966   \n",
      "\n",
      "      employee_residence  remote_ratio company_location company_size  \n",
      "14833                 GH           100               GH            M  \n",
      "14834                 NG             0               CA            M  \n",
      "14835                 TH           100               TH            L  \n",
      "14836                 ID             0               ID            L  \n",
      "14837                 DE           100               DE            S  \n",
      "##################### NA #####################\n",
      "work_year             0\n",
      "experience_level      0\n",
      "employment_type       0\n",
      "job_title             0\n",
      "salary                0\n",
      "salary_currency       0\n",
      "salary_in_usd         0\n",
      "employee_residence    0\n",
      "remote_ratio          0\n",
      "company_location      0\n",
      "company_size          0\n",
      "dtype: int64\n"
     ]
    }
   ],
   "source": [
    "check_df(df)"
   ]
  },
  {
   "cell_type": "code",
   "execution_count": 9,
   "id": "ddae2c57",
   "metadata": {},
   "outputs": [
    {
     "data": {
      "text/html": [
       "<div>\n",
       "<style scoped>\n",
       "    .dataframe tbody tr th:only-of-type {\n",
       "        vertical-align: middle;\n",
       "    }\n",
       "\n",
       "    .dataframe tbody tr th {\n",
       "        vertical-align: top;\n",
       "    }\n",
       "\n",
       "    .dataframe thead th {\n",
       "        text-align: right;\n",
       "    }\n",
       "</style>\n",
       "<table border=\"1\" class=\"dataframe\">\n",
       "  <thead>\n",
       "    <tr style=\"text-align: right;\">\n",
       "      <th></th>\n",
       "      <th>work_year</th>\n",
       "      <th>salary</th>\n",
       "      <th>salary_in_usd</th>\n",
       "      <th>remote_ratio</th>\n",
       "    </tr>\n",
       "  </thead>\n",
       "  <tbody>\n",
       "    <tr>\n",
       "      <th>count</th>\n",
       "      <td>14838.000</td>\n",
       "      <td>14838.000</td>\n",
       "      <td>14838.000</td>\n",
       "      <td>14838.000</td>\n",
       "    </tr>\n",
       "    <tr>\n",
       "      <th>mean</th>\n",
       "      <td>2023.139</td>\n",
       "      <td>165022.719</td>\n",
       "      <td>149874.719</td>\n",
       "      <td>32.760</td>\n",
       "    </tr>\n",
       "    <tr>\n",
       "      <th>std</th>\n",
       "      <td>0.701</td>\n",
       "      <td>356235.427</td>\n",
       "      <td>69009.181</td>\n",
       "      <td>46.488</td>\n",
       "    </tr>\n",
       "    <tr>\n",
       "      <th>min</th>\n",
       "      <td>2020.000</td>\n",
       "      <td>14000.000</td>\n",
       "      <td>15000.000</td>\n",
       "      <td>0.000</td>\n",
       "    </tr>\n",
       "    <tr>\n",
       "      <th>25%</th>\n",
       "      <td>2023.000</td>\n",
       "      <td>102100.000</td>\n",
       "      <td>102000.000</td>\n",
       "      <td>0.000</td>\n",
       "    </tr>\n",
       "    <tr>\n",
       "      <th>50%</th>\n",
       "      <td>2023.000</td>\n",
       "      <td>142200.000</td>\n",
       "      <td>141300.000</td>\n",
       "      <td>0.000</td>\n",
       "    </tr>\n",
       "    <tr>\n",
       "      <th>75%</th>\n",
       "      <td>2024.000</td>\n",
       "      <td>187500.000</td>\n",
       "      <td>185900.000</td>\n",
       "      <td>100.000</td>\n",
       "    </tr>\n",
       "    <tr>\n",
       "      <th>max</th>\n",
       "      <td>2024.000</td>\n",
       "      <td>30400000.000</td>\n",
       "      <td>800000.000</td>\n",
       "      <td>100.000</td>\n",
       "    </tr>\n",
       "  </tbody>\n",
       "</table>\n",
       "</div>"
      ],
      "text/plain": [
       "       work_year       salary  salary_in_usd  remote_ratio\n",
       "count  14838.000    14838.000      14838.000     14838.000\n",
       "mean    2023.139   165022.719     149874.719        32.760\n",
       "std        0.701   356235.427      69009.181        46.488\n",
       "min     2020.000    14000.000      15000.000         0.000\n",
       "25%     2023.000   102100.000     102000.000         0.000\n",
       "50%     2023.000   142200.000     141300.000         0.000\n",
       "75%     2024.000   187500.000     185900.000       100.000\n",
       "max     2024.000 30400000.000     800000.000       100.000"
      ]
     },
     "execution_count": 9,
     "metadata": {},
     "output_type": "execute_result"
    }
   ],
   "source": [
    "df.describe()"
   ]
  },
  {
   "cell_type": "code",
   "execution_count": 17,
   "id": "bc350e1f",
   "metadata": {},
   "outputs": [],
   "source": [
    "def column_detection(dataframe: pd.DataFrame, cat_th: int = 10, car_th: int = 20):\n",
    "    cat_cols = [col for col in dataframe.columns if dataframe[col].dtypes == \"O\"]\n",
    "    num_but_cat = [col for col in dataframe.columns if dataframe[col].nunique() < cat_th and\n",
    "                       dataframe[col].dtypes != \"O\"]\n",
    "    cat_but_car = [col for col in dataframe.columns if dataframe[col].nunique() > car_th and\n",
    "                    dataframe[col].dtypes == \"O\"]\n",
    "    cat_cols = cat_cols + num_but_cat\n",
    "    cat_cols = [col for col in cat_cols if col not in cat_but_car]\n",
    "\n",
    "    # num_cols\n",
    "    num_cols = [col for col in dataframe.columns if dataframe[col].dtypes != \"O\"]\n",
    "    num_cols = [col for col in num_cols if col not in num_but_cat]\n",
    "\n",
    "    print(\"\\n##################### Categoric #####################\")\n",
    "    print(cat_cols)\n",
    "    print(\"\\n##################### Numeric #####################\")\n",
    "    print(num_cols)\n",
    "    print(\"\\n##################### Categoric But Cardinal #####################\")\n",
    "    print(cat_but_car)\n",
    "    print(\"\\n##################### Numeric But Categoric #####################\")\n",
    "    print(num_but_cat)\n",
    "    print(\"\\n##################### Columns Overview #####################\")\n",
    "    print(f\"Observations: {dataframe.shape[0]}\")\n",
    "    print(f\"Variables: {dataframe.shape[1]}\")\n",
    "    print(f'cat_cols: {len(cat_cols)}')\n",
    "    print(f'num_cols: {len(num_cols)}')\n",
    "    print(f'cat_but_car: {len(cat_but_car)}')\n",
    "    print(f'num_but_cat: {len(num_but_cat)}')\n",
    "    return cat_cols, num_cols, cat_but_car, num_but_cat"
   ]
  },
  {
   "cell_type": "code",
   "execution_count": 18,
   "id": "9c109f9a",
   "metadata": {},
   "outputs": [
    {
     "name": "stdout",
     "output_type": "stream",
     "text": [
      "\n",
      "##################### Categoric #####################\n",
      "['experience_level', 'employment_type', 'company_size', 'work_year', 'remote_ratio']\n",
      "\n",
      "##################### Numeric #####################\n",
      "['salary', 'salary_in_usd']\n",
      "\n",
      "##################### Categoric But Cardinal #####################\n",
      "['job_title', 'salary_currency', 'employee_residence', 'company_location']\n",
      "\n",
      "##################### Numeric But Categoric #####################\n",
      "['work_year', 'remote_ratio']\n",
      "\n",
      "##################### Columns Overview #####################\n",
      "Observations: 14838\n",
      "Variables: 11\n",
      "cat_cols: 5\n",
      "num_cols: 2\n",
      "cat_but_car: 4\n",
      "num_but_cat: 2\n"
     ]
    }
   ],
   "source": [
    "cat_cols, num_cols, cat_but_car, num_but_cat = column_detection(df)"
   ]
  },
  {
   "cell_type": "code",
   "execution_count": 37,
   "id": "e3c1d9ce",
   "metadata": {},
   "outputs": [
    {
     "data": {
      "image/png": "[encoded data removed]",
      "text/plain": [
       "<Figure size 432x288 with 1 Axes>"
      ]
     },
     "metadata": {
      "needs_background": "light"
     },
     "output_type": "display_data"
    },
    {
     "data": {
      "image/png": "[encoded data removed]",
      "text/plain": [
       "<Figure size 432x288 with 1 Axes>"
      ]
     },
     "metadata": {
      "needs_background": "light"
     },
     "output_type": "display_data"
    }
   ],
   "source": [
    "def cat_summary(dataframe, col_name, plot=True):\n",
    "    print(pd.DataFrame({col_name: dataframe[col_name].value_counts(),\n",
    "                        \"Ratio\": 100 * dataframe[col_name].value_counts() / len(dataframe)}))\n",
    "\n",
    "    if plot:\n",
    "        sns.countplot(x=dataframe[col_name], data=dataframe)\n",
    "        plt.show(block=True)\n",
    "\n",
    "\n",
    "for col in cat_cols:\n",
    "    cat_summary(df, col)\n",
    "\n",
    "\n",
    "def hist_num_columns_show(dataframe, num_column):\n",
    "    dataframe[num_column].hist(bins=25)\n",
    "    plt.xlabel(num_column)\n",
    "    plt.ylabel(\"Frequency\")\n",
    "    plt.show(block=True)\n",
    "\n",
    "\n",
    "for num_col in num_cols:\n",
    "    hist_num_columns_show(df, num_col)"
   ]
  },
  {
   "cell_type": "code",
   "execution_count": 68,
   "id": "600ea3d4",
   "metadata": {},
   "outputs": [
    {
     "data": {
      "image/png": "[encoded data removed]",
      "text/plain": [
       "<Figure size 720x720 with 1 Axes>"
      ]
     },
     "metadata": {
      "needs_background": "light"
     },
     "output_type": "display_data"
    }
   ],
   "source": [
    "plt.figure(figsize=(10,10))\n",
    "plt.scatter('work_year',\"salary_in_usd\" , data=df)\n",
    "plt.xticks(rotation=90)\n",
    "plt.show()"
   ]
  },
  {
   "cell_type": "code",
   "execution_count": 52,
   "id": "678b7312",
   "metadata": {},
   "outputs": [
    {
     "data": {
      "image/png": "[encoded data removed]",
      "text/plain": [
       "<Figure size 1800x720 with 1 Axes>"
      ]
     },
     "metadata": {
      "needs_background": "light"
     },
     "output_type": "display_data"
    }
   ],
   "source": [
    "plt.figure(figsize=(25,10))\n",
    "plt.scatter('employee_residence',\"salary_in_usd\" , data=df)\n",
    "plt.xticks(rotation=90)\n",
    "plt.show()\n",
    "\n",
    "# Bu grafik bize data science üstüne çalışanları ekonomisi güçlü ülkelerde daha önemli olduğunu gösteriyor"
   ]
  },
  {
   "cell_type": "code",
   "execution_count": 58,
   "id": "cce6ef02",
   "metadata": {},
   "outputs": [
    {
     "data": {
      "text/plain": [
       "work_year             0\n",
       "experience_level      0\n",
       "employment_type       0\n",
       "job_title             0\n",
       "salary                0\n",
       "salary_currency       0\n",
       "salary_in_usd         0\n",
       "employee_residence    0\n",
       "remote_ratio          0\n",
       "company_location      0\n",
       "company_size          0\n",
       "dtype: int64"
      ]
     },
     "execution_count": 58,
     "metadata": {},
     "output_type": "execute_result"
    }
   ],
   "source": [
    "df.isnull().sum()"
   ]
  },
  {
   "cell_type": "code",
   "execution_count": null,
   "id": "8db6a260",
   "metadata": {},
   "outputs": [],
   "source": []
  }
 ],
 "metadata": {
  "kernelspec": {
   "display_name": "Python 3 (ipykernel)",
   "language": "python",
   "name": "python3"
  },
  "language_info": {
   "codemirror_mode": {
    "name": "ipython",
    "version": 3
   },
   "file_extension": ".py",
   "mimetype": "text/x-python",
   "name": "python",
   "nbconvert_exporter": "python",
   "pygments_lexer": "ipython3",
   "version": "3.9.12"
  }
 },
 "nbformat": 4,
 "nbformat_minor": 5
}
